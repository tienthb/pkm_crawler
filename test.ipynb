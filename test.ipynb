{
 "cells": [
  {
   "cell_type": "code",
   "execution_count": 65,
   "metadata": {},
   "outputs": [],
   "source": [
    "import requests\n",
    "from bs4 import BeautifulSoup\n",
    "import pandas as pd\n",
    "\n",
    "BASE_URL = \"https://www.serebii.net\"\n"
   ]
  },
  {
   "cell_type": "code",
   "execution_count": 66,
   "metadata": {},
   "outputs": [],
   "source": [
    "def get_soup(url):\n",
    "    response = requests.get(url)\n",
    "\n",
    "    if response.status_code == 200:\n",
    "        soup = BeautifulSoup(response.text, \"html.parser\")\n",
    "    else:\n",
    "        print(\"Failed to retrieve the webpage. Status code:\", response.status_code)\n",
    "    return soup"
   ]
  },
  {
   "cell_type": "code",
   "execution_count": 67,
   "metadata": {},
   "outputs": [],
   "source": [
    "# URL of the webpage to scrape\n",
    "url = f\"{BASE_URL}/pokemon/nationalpokedex.shtml\"\n",
    "soup = get_soup(url)"
   ]
  },
  {
   "cell_type": "code",
   "execution_count": 93,
   "metadata": {},
   "outputs": [],
   "source": [
    "\n",
    "table_dex = soup.find(\"table\", attrs={\"class\": \"dextable\"})\n",
    "table_rows = table_dex.find_all(\"tr\")\n",
    "for i in range(2, len(table_rows), 2):\n",
    "    table_cols = table_rows[i].find_all(\"td\")\n",
    "    pkm_url = table_cols[1].find(\"a\")[\"href\"]\n",
    "    pkm_url = BASE_URL + pkm_url\n",
    "    pkm_soup = get_soup(pkm_url)\n",
    "    pkm_tables = pkm_soup.find_all(\"table\", attrs={\"class\": \"dextab\"})\n",
    "    gen_url = pkm_tables[1].find(\"a\")[\"href\"]\n",
    "    gen_url = BASE_URL + gen_url\n",
    "    if i == 6:\n",
    "        break\n",
    "\n"
   ]
  },
  {
   "cell_type": "code",
   "execution_count": 94,
   "metadata": {},
   "outputs": [],
   "source": [
    "gen_soup = get_soup(gen_url)\n",
    "gen_tables = gen_soup.find_all(\"table\", attrs={\"class\": \"dextable\"})"
   ]
  },
  {
   "cell_type": "code",
   "execution_count": 95,
   "metadata": {},
   "outputs": [
    {
     "data": {
      "text/plain": [
       "<tr>\n",
       "<td align=\"center\" class=\"fooinfo\"><table class=\"evochain\">\n",
       "<tr><td class=\"pkmn\"><a href=\"/pokedex-swsh/bulbasaur\"><img alt=\"Bulbasaur\" border=\"0\" loading=\"lazy\" src=\"/swordshield/pokemon/001.png\" width=\"100\"/></a></td>\n",
       "<td><img alt=\"Level \" loading=\"lazy\" src=\"/pokedex-swsh/evoicon/l16.png\" title=\"Level \"/></td>\n",
       "<td class=\"pkmn\"><a href=\"/pokedex-swsh/ivysaur\"><img alt=\"Ivysaur\" border=\"0\" loading=\"lazy\" src=\"/swordshield/pokemon/002.png\" width=\"100\"/></a></td><td><img alt=\"Level \" loading=\"lazy\" src=\"/pokedex-swsh/evoicon/l32.png\" title=\"Level \"/></td><td class=\"pkmn\"><a href=\"/pokedex-swsh/venusaur\"><img alt=\"Venusaur\" border=\"0\" loading=\"lazy\" src=\"/swordshield/pokemon/003.png\" width=\"100\"/></a></td><td><img alt=\"Gigantamax\" loading=\"lazy\" src=\"/pokedex-swsh/evoicon/mega384.png\"/></td><td class=\"pkmn\"><a href=\"/pokedex-swsh/venusaur\"><img alt=\"Gigantamax Venusaur\" border=\"0\" loading=\"lazy\" src=\"/swordshield/pokemon/003-gi.png\" width=\"100\"/></a></td></tr></table></td>\n",
       "</tr>"
      ]
     },
     "execution_count": 95,
     "metadata": {},
     "output_type": "execute_result"
    }
   ],
   "source": [
    "gen_tables[5].find_all(\"tr\")[1]"
   ]
  }
 ],
 "metadata": {
  "kernelspec": {
   "display_name": "Python 3",
   "language": "python",
   "name": "python3"
  },
  "language_info": {
   "codemirror_mode": {
    "name": "ipython",
    "version": 3
   },
   "file_extension": ".py",
   "mimetype": "text/x-python",
   "name": "python",
   "nbconvert_exporter": "python",
   "pygments_lexer": "ipython3",
   "version": "3.8.10"
  },
  "orig_nbformat": 4
 },
 "nbformat": 4,
 "nbformat_minor": 2
}
