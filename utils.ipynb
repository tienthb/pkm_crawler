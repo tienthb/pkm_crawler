{
 "cells": [
  {
   "attachments": {},
   "cell_type": "markdown",
   "metadata": {},
   "source": [
    "#### Remove non shiny save"
   ]
  },
  {
   "cell_type": "code",
   "execution_count": null,
   "metadata": {},
   "outputs": [],
   "source": [
    "import os\n",
    "\n",
    "directories = [\"E:/Games/Switch/PKM/ForkBot-x64/dump/\", \"E:/Games/Switch/PKM/NotForkBot-x64/dump/\"]\n",
    "shiny = (\"★\", \"■\")\n",
    "for directory in directories:\n",
    "    for root, dirs, files in os.walk(directory):\n",
    "        for filename in files:\n",
    "            if not any(x in filename for x in shiny):\n",
    "                os.remove(os.path.join(root, filename))"
   ]
  },
  {
   "cell_type": "markdown",
   "metadata": {},
   "source": [
    "#### Crawl Tera Raid from"
   ]
  },
  {
   "cell_type": "code",
   "execution_count": null,
   "metadata": {},
   "outputs": [],
   "source": [
    "import requests\n",
    "from bs4 import BeautifulSoup\n",
    "import pandas as pd\n",
    "\n",
    "# URL of the webpage to scrape\n",
    "url = \"https://www.serebii.net/scarletviolet/teraraidbattles.shtml\"\n",
    "\n",
    "# Send an HTTP GET request to the URL\n",
    "response = requests.get(url)\n",
    "\n",
    "# Check if the request was successful (status code 200)\n",
    "if response.status_code == 200:\n",
    "    # Parse the HTML content of the page\n",
    "    soup = BeautifulSoup(response.text, \"html.parser\")\n",
    "    tabs = soup.find_all(\"a\", class_=\"tab\")\n",
    "    \n",
    "    for tab in tabs:\n",
    "        print(tab.text)\n",
    "else:\n",
    "    print(\"Failed to retrieve the webpage. Status code:\", response.status_code)\n",
    "\n",
    "tables = soup.find_all(\"table\", attrs={\"class\": \"tab\"})\n",
    "tera_table = tables[1]\n",
    "\n",
    "data = {\n",
    "    \"pokemon_name\": [],\n",
    "    \"type\": [],\n",
    "    \"raid_level\": []\n",
    "}\n",
    "rows = tera_table.find_all(\"tr\")\n",
    "\n",
    "for i in range(1, len(rows), 2):\n",
    "    data[\"pokemon_name\"].append(rows[i].find_all(\"td\")[2].text)\n",
    "    star_level = \"\"\n",
    "    tds = rows[i].find_all(\"td\")\n",
    "    for j in tds[4].contents:\n",
    "        if j.name == \"br\":\n",
    "            star_level += j.text + \"\\n\"\n",
    "        else:\n",
    "            star_level += j.text\n",
    "    if star_level.endswith(\"\\n\"):\n",
    "        star_level = star_level[:-1]\n",
    "    data[\"raid_level\"].append(star_level.split(\"\\n\"))\n",
    "    types = []\n",
    "    for k in tds[3].find_all(\"a\"):\n",
    "        types.append(k[\"href\"].split(\"/\")[2].split(\".\")[0])\n",
    "    data[\"type\"].append(types)\n",
    "\n",
    "df = pd.DataFrame(data)\n",
    "\n",
    "df = df.explode(\"raid_level\")\n",
    "df = df.drop_duplicates()\n",
    "df[\"map\"] = df[\"raid_level\"].apply(lambda x: \"Paldea\" if x.endswith(\"Raids\") else \"Kitakami\")\n",
    "# df.to_csv(\"./Tera raid.csv\", index=False)"
   ]
  },
  {
   "cell_type": "code",
   "execution_count": 1,
   "metadata": {},
   "outputs": [],
   "source": [
    "import requests\n",
    "from bs4 import BeautifulSoup\n",
    "import pandas as pd\n",
    "\n",
    "# URL of the webpage to scrape\n",
    "url = \"https://www.serebii.net/scarletviolet/teraraidbattles.shtml\"\n",
    "\n",
    "# Send an HTTP GET request to the URL\n",
    "response = requests.get(url)\n",
    "\n",
    "# Check if the request was successful (status code 200)\n",
    "if response.status_code == 200:\n",
    "    # Parse the HTML content of the page\n",
    "    soup = BeautifulSoup(response.text, \"html.parser\")\n",
    "    tabs = soup.find_all(\"a\", class_=\"tab\")\n",
    "    \n",
    "    for tab in tabs:\n",
    "        print(tab.text)\n",
    "else:\n",
    "    print(\"Failed to retrieve the webpage. Status code:\", response.status_code)\n",
    "\n",
    "tables = soup.find_all(\"table\", attrs={\"class\": \"tab\"})\n",
    "tera_table = tables[1]"
   ]
  },
  {
   "cell_type": "code",
   "execution_count": 3,
   "metadata": {},
   "outputs": [],
   "source": [
    "rows = tera_table.find_all(\"tr\")"
   ]
  },
  {
   "cell_type": "code",
   "execution_count": null,
   "metadata": {},
   "outputs": [],
   "source": [
    "rows"
   ]
  },
  {
   "cell_type": "code",
   "execution_count": 24,
   "metadata": {},
   "outputs": [
    {
     "name": "stdout",
     "output_type": "stream",
     "text": [
      "normal\n",
      "fairy\n"
     ]
    }
   ],
   "source": [
    "for k in rows[17].find_all(\"td\")[3].find_all(\"a\"):\n",
    "    print(k[\"href\"].split(\"/\")[2].split(\".\")[0])"
   ]
  }
 ],
 "metadata": {
  "kernelspec": {
   "display_name": "Python 3",
   "language": "python",
   "name": "python3"
  },
  "language_info": {
   "codemirror_mode": {
    "name": "ipython",
    "version": 3
   },
   "file_extension": ".py",
   "mimetype": "text/x-python",
   "name": "python",
   "nbconvert_exporter": "python",
   "pygments_lexer": "ipython3",
   "version": "3.8.10"
  },
  "orig_nbformat": 4
 },
 "nbformat": 4,
 "nbformat_minor": 2
}
